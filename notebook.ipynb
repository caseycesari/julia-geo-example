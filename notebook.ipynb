{
 "cells": [
  {
   "cell_type": "markdown",
   "metadata": {},
   "source": [
    "#Basic Geo Example in Julia"
   ]
  },
  {
   "cell_type": "markdown",
   "metadata": {},
   "source": [
    "First, we'll create a composite type for coordinates. The constructor takes the same name as the type name, and can do things like perform validation on instantiation."
   ]
  },
  {
   "cell_type": "code",
   "execution_count": 17,
   "metadata": {
    "collapsed": true
   },
   "outputs": [],
   "source": [
    "type CoordinatePair\n",
    "    lon::Float64\n",
    "    lat::Float64\n",
    "    \n",
    "    function CoordinatePair(lon, lat)\n",
    "        if lon < -180 || lon > 180\n",
    "            error(\"Longitude must be >= -180 and <= 180\")\n",
    "        end\n",
    "        \n",
    "        if lat < -90 || lat > 90\n",
    "            error(\"Latitude must be >= -180 and <= 180\")\n",
    "        end\n",
    "        \n",
    "        new(lon, lat)\n",
    "    end\n",
    "end"
   ]
  },
  {
   "cell_type": "markdown",
   "metadata": {},
   "source": [
    "Let's test our new type validation method."
   ]
  },
  {
   "cell_type": "code",
   "execution_count": 18,
   "metadata": {
    "collapsed": false
   },
   "outputs": [
    {
     "ename": "LoadError",
     "evalue": "Longitude must be >= -180 and <= 180\nwhile loading In[18], in expression starting on line 1",
     "output_type": "error",
     "traceback": [
      "Longitude must be >= -180 and <= 180\nwhile loading In[18], in expression starting on line 1",
      "",
      " in CoordinatePair at In[17]:7"
     ]
    }
   ],
   "source": [
    "CoordinatePair(200, 35.34)"
   ]
  },
  {
   "cell_type": "code",
   "execution_count": 19,
   "metadata": {
    "collapsed": false
   },
   "outputs": [
    {
     "data": {
      "text/plain": [
       "CoordinatePair(-75.343,39.0343)"
      ]
     },
     "execution_count": 19,
     "metadata": {},
     "output_type": "execute_result"
    }
   ],
   "source": [
    "latlon = CoordinatePair(-75.343, 39.0343)"
   ]
  },
  {
   "cell_type": "markdown",
   "metadata": {},
   "source": [
    "Once the type is defined, you can access the subtypes using dot notation."
   ]
  },
  {
   "cell_type": "code",
   "execution_count": 20,
   "metadata": {
    "collapsed": false
   },
   "outputs": [
    {
     "data": {
      "text/plain": [
       "39.0343"
      ]
     },
     "execution_count": 20,
     "metadata": {},
     "output_type": "execute_result"
    }
   ],
   "source": [
    "latlon.lat"
   ]
  },
  {
   "cell_type": "markdown",
   "metadata": {},
   "source": [
    "Construction of array literals look as you would expect. Julia indexing starts at 1."
   ]
  },
  {
   "cell_type": "code",
   "execution_count": 5,
   "metadata": {
    "collapsed": false
   },
   "outputs": [
    {
     "data": {
      "text/plain": [
       "(-75.111,39.111)"
      ]
     },
     "execution_count": 5,
     "metadata": {},
     "output_type": "execute_result"
    }
   ],
   "source": [
    "latlons = [(-75.111, 39.111), (-75.222, 39.222), (-75.333, 39.333)]\n",
    "\n",
    "latlons\n",
    "latlons[1]"
   ]
  },
  {
   "cell_type": "markdown",
   "metadata": {},
   "source": [
    "Creating lambda functions is done with `->`"
   ]
  },
  {
   "cell_type": "code",
   "execution_count": 21,
   "metadata": {
    "collapsed": false
   },
   "outputs": [
    {
     "data": {
      "text/plain": [
       "3-element Array{CoordinatePair,1}:\n",
       " CoordinatePair(-75.111,39.111)\n",
       " CoordinatePair(-75.222,39.222)\n",
       " CoordinatePair(-75.333,39.333)"
      ]
     },
     "execution_count": 21,
     "metadata": {},
     "output_type": "execute_result"
    }
   ],
   "source": [
    "map(c -> CoordinatePair(c[1], c[2]), latlons)"
   ]
  },
  {
   "cell_type": "markdown",
   "metadata": {},
   "source": [
    "You can also provide a `do` block to functions, which is helpful for long or complex lambdas"
   ]
  },
  {
   "cell_type": "code",
   "execution_count": 39,
   "metadata": {
    "collapsed": false
   },
   "outputs": [
    {
     "data": {
      "text/plain": [
       "3-element Array{Coordinates,1}:\n",
       " Coordinates(-75.111,39.111)\n",
       " Coordinates(-75.222,39.222)\n",
       " Coordinates(-75.333,39.333)"
      ]
     },
     "execution_count": 39,
     "metadata": {},
     "output_type": "execute_result"
    }
   ],
   "source": [
    "coords = map(latlons) do c\n",
    "    # If we had some conditions or more\n",
    "    # complex math to do, it would be\n",
    "    # handy to put it in here rather than\n",
    "    # cram it on one line.\n",
    "    Coordinates(c[1], c[2])\n",
    "end"
   ]
  },
  {
   "cell_type": "markdown",
   "metadata": {},
   "source": [
    "If we try to add two of Coordinates, we'll get an error because there's no version of the + function that matches our type signature"
   ]
  },
  {
   "cell_type": "code",
   "execution_count": 40,
   "metadata": {
    "collapsed": false
   },
   "outputs": [
    {
     "data": {
      "text/plain": [
       "Coordinates(-35.889,78.333)"
      ]
     },
     "execution_count": 40,
     "metadata": {},
     "output_type": "execute_result"
    }
   ],
   "source": [
    "+(coords[1], coords[2])"
   ]
  },
  {
   "cell_type": "markdown",
   "metadata": {},
   "source": [
    "Julia uses multiple dispatching to find a version of a function that matches the passed type(s). Let's create a version of `+` that supports Coordinates"
   ]
  },
  {
   "cell_type": "code",
   "execution_count": 42,
   "metadata": {
    "collapsed": false
   },
   "outputs": [
    {
     "data": {
      "text/plain": [
       "+ (generic function with 119 methods)"
      ]
     },
     "execution_count": 42,
     "metadata": {},
     "output_type": "execute_result"
    }
   ],
   "source": [
    "function +(a::CoordinatePair, b::CoordinatePair)\n",
    "    diff_lat = a.lat + b.lat\n",
    "    diff_lon = a.lon + b.lat\n",
    "    \n",
    "    CoordinatePair(diff_lon, diff_lat)\n",
    "end"
   ]
  },
  {
   "cell_type": "code",
   "execution_count": 43,
   "metadata": {
    "collapsed": false
   },
   "outputs": [
    {
     "data": {
      "text/plain": [
       "Coordinates(-35.889,78.333)"
      ]
     },
     "execution_count": 43,
     "metadata": {},
     "output_type": "execute_result"
    }
   ],
   "source": [
    "+(coords[1], coords[2])"
   ]
  },
  {
   "cell_type": "markdown",
   "metadata": {},
   "source": [
    "Julia supports unpacking of lists"
   ]
  },
  {
   "cell_type": "code",
   "execution_count": 3,
   "metadata": {
    "collapsed": false
   },
   "outputs": [
    {
     "data": {
      "text/plain": [
       "39.231"
      ]
     },
     "execution_count": 3,
     "metadata": {},
     "output_type": "execute_result"
    }
   ],
   "source": [
    "lat, lon = [-75.434, 39.231]\n",
    "lon"
   ]
  },
  {
   "cell_type": "markdown",
   "metadata": {},
   "source": [
    "- custom distance function (with math charaters)\n",
    "- parallel example\n",
    "- scientific notation\n",
    "- string interpolation"
   ]
  },
  {
   "cell_type": "markdown",
   "metadata": {
    "collapsed": true
   },
   "source": []
  }
 ],
 "metadata": {
  "kernelspec": {
   "display_name": "Julia 0.3.11",
   "language": "julia",
   "name": "julia-0.3"
  },
  "language_info": {
   "name": "julia",
   "version": "0.3.11"
  }
 },
 "nbformat": 4,
 "nbformat_minor": 0
}
