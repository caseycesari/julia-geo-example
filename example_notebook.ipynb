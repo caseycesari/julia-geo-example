{
 "cells": [
  {
   "cell_type": "markdown",
   "metadata": {},
   "source": [
    "#Basic Geo Example in Julia"
   ]
  },
  {
   "cell_type": "markdown",
   "metadata": {},
   "source": [
    "First, we'll create a composite type for coordinates. The constructor takes the same name as the type name, and can do things like perform validation on instantiation."
   ]
  },
  {
   "cell_type": "code",
   "execution_count": 2,
   "metadata": {
    "collapsed": true
   },
   "outputs": [],
   "source": [
    "type Coordinates\n",
    "    lon::Float64\n",
    "    lat::Float64\n",
    "    \n",
    "    function Coordinates(lon, lat)\n",
    "        if lon < -180 || lon > 180\n",
    "            error(\"Longitude must be >= -180 and <= 180\")\n",
    "        end\n",
    "        \n",
    "        if lat < -90 || lat > 90\n",
    "            error(\"Latitude must be >= -180 and <= 180\")\n",
    "        end\n",
    "        \n",
    "        new(lon, lat)\n",
    "    end\n",
    "end"
   ]
  },
  {
   "cell_type": "code",
   "execution_count": 3,
   "metadata": {
    "collapsed": false
   },
   "outputs": [
    {
     "ename": "LoadError",
     "evalue": "Longitude must be >= -180 and <= 180\nwhile loading In[3], in expression starting on line 1",
     "output_type": "error",
     "traceback": [
      "Longitude must be >= -180 and <= 180\nwhile loading In[3], in expression starting on line 1",
      "",
      " in Coordinates at In[2]:7"
     ]
    }
   ],
   "source": [
    "Coordinates(200, 35.34)"
   ]
  },
  {
   "cell_type": "code",
   "execution_count": 4,
   "metadata": {
    "collapsed": false
   },
   "outputs": [
    {
     "data": {
      "text/plain": [
       "39.0343"
      ]
     },
     "execution_count": 4,
     "metadata": {},
     "output_type": "execute_result"
    }
   ],
   "source": [
    "latlon = Coordinates(-75.343, 39.0343)\n",
    "latlon.lat"
   ]
  },
  {
   "cell_type": "code",
   "execution_count": 13,
   "metadata": {
    "collapsed": false
   },
   "outputs": [
    {
     "data": {
      "text/plain": [
       "(-75.111,39.111)"
      ]
     },
     "execution_count": 13,
     "metadata": {},
     "output_type": "execute_result"
    }
   ],
   "source": [
    "latlons = [(-75.111, 39.111), (-75.222, 39.222), (-75.333, 39.333)]\n",
    "\n",
    "latlons\n",
    "latlons[1]"
   ]
  },
  {
   "cell_type": "code",
   "execution_count": 12,
   "metadata": {
    "collapsed": false
   },
   "outputs": [
    {
     "data": {
      "text/plain": [
       "3-element Array{Coordinates,1}:\n",
       " Coordinates(-75.111,39.111)\n",
       " Coordinates(-75.222,39.222)\n",
       " Coordinates(-75.333,39.333)"
      ]
     },
     "execution_count": 12,
     "metadata": {},
     "output_type": "execute_result"
    }
   ],
   "source": [
    "map(c -> Coordinates(c[1], c[2]), latlons)"
   ]
  },
  {
   "cell_type": "code",
   "execution_count": null,
   "metadata": {
    "collapsed": true
   },
   "outputs": [],
   "source": [
    "- unpacking\n",
    "- custom add function"
   ]
  },
  {
   "cell_type": "markdown",
   "metadata": {
    "collapsed": true
   },
   "source": []
  }
 ],
 "metadata": {
  "kernelspec": {
   "display_name": "Julia 0.3.10",
   "language": "julia",
   "name": "julia-0.3"
  },
  "language_info": {
   "name": "julia",
   "version": "0.3.10"
  }
 },
 "nbformat": 4,
 "nbformat_minor": 0
}
