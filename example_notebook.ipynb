{
 "cells": [
  {
   "cell_type": "markdown",
   "metadata": {},
   "source": [
    "#Basic Geo Example in Julia"
   ]
  },
  {
   "cell_type": "markdown",
   "metadata": {},
   "source": [
    "First, we'll create a composite type for coordinates. The constructor takes the same name as the type name, and can do things like perform validation on instantiation."
   ]
  },
  {
   "cell_type": "code",
   "execution_count": 11,
   "metadata": {
    "collapsed": true
   },
   "outputs": [],
   "source": [
    "type Coordinates\n",
    "    lon::Float64\n",
    "    lat::Float64\n",
    "    \n",
    "    function Coordinates(lon, lat)\n",
    "        if lon < -180 || lon > 180\n",
    "            error(\"Longitude must be >= -180 and <= 180\")\n",
    "        end\n",
    "        \n",
    "        if lat < -90 || lat > 90\n",
    "            error(\"Latitude must be >= -180 and <= 180\")\n",
    "        end\n",
    "        \n",
    "        new(lon, lat)\n",
    "    end\n",
    "end"
   ]
  },
  {
   "cell_type": "code",
   "execution_count": 12,
   "metadata": {
    "collapsed": false
   },
   "outputs": [
    {
     "ename": "LoadError",
     "evalue": "Longitude must be >= -180 and <= 180\nwhile loading In[12], in expression starting on line 1",
     "output_type": "error",
     "traceback": [
      "Longitude must be >= -180 and <= 180\nwhile loading In[12], in expression starting on line 1",
      "",
      " in Coordinates at In[11]:7"
     ]
    }
   ],
   "source": [
    "Coordinates(200, 35.34)"
   ]
  },
  {
   "cell_type": "code",
   "execution_count": 13,
   "metadata": {
    "collapsed": false
   },
   "outputs": [
    {
     "data": {
      "text/plain": [
       "39.0343"
      ]
     },
     "execution_count": 13,
     "metadata": {},
     "output_type": "execute_result"
    }
   ],
   "source": [
    "latlon = Coordinates(-75.343, 39.0343)\n",
    "latlon.lat"
   ]
  },
  {
   "cell_type": "markdown",
   "metadata": {
    "collapsed": true
   },
   "source": []
  }
 ],
 "metadata": {
  "kernelspec": {
   "display_name": "Julia 0.3.6",
   "language": "julia",
   "name": "julia 0.3"
  },
  "language_info": {
   "name": "julia",
   "version": "0.3.6"
  }
 },
 "nbformat": 4,
 "nbformat_minor": 0
}
